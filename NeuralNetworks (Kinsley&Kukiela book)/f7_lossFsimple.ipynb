{
 "cells": [
  {
   "cell_type": "code",
   "execution_count": 100,
   "id": "transsexual-fleet",
   "metadata": {},
   "outputs": [],
   "source": [
    "import numpy as np\n",
    "import math"
   ]
  },
  {
   "cell_type": "code",
   "execution_count": 21,
   "id": "stopped-subdivision",
   "metadata": {},
   "outputs": [],
   "source": [
    "softmax_outputs = [[0.7, 0.1, 0.2], [0.1, 0.5, 0.4], [0.02, 0.9, 0.08]]\n",
    "softmax_outputs_np = np.array([[0.7, 0.1, 0.2], [0.1, 0.5, 0.4], [0.02, 0.9, 0.08]])\n",
    "class_targets = [0, 1, 1]\n",
    "check = [2,2,2]"
   ]
  },
  {
   "cell_type": "code",
   "execution_count": 8,
   "id": "clean-shoulder",
   "metadata": {},
   "outputs": [
    {
     "name": "stdout",
     "output_type": "stream",
     "text": [
      "[0.7, 0.1, 0.2]\n",
      "0\n",
      "-------\n",
      "[0.1, 0.5, 0.4]\n",
      "1\n",
      "-------\n",
      "[0.02, 0.9, 0.08]\n",
      "1\n",
      "-------\n"
     ]
    }
   ],
   "source": [
    "for targ_idx, distribution in zip(class_targets, softmax_outputs):\n",
    "#    print(distribution[targ_idx])\n",
    "    print(distribution)\n",
    "    print(targ_idx)\n",
    "    print('-------')\n"
   ]
  },
  {
   "cell_type": "code",
   "execution_count": 30,
   "id": "commercial-surgery",
   "metadata": {},
   "outputs": [
    {
     "name": "stdout",
     "output_type": "stream",
     "text": [
      "[0.2  0.4  0.08]\n"
     ]
    }
   ],
   "source": [
    "print(softmax_outputs_np[[0, 1, 2], check])"
   ]
  },
  {
   "cell_type": "code",
   "execution_count": 31,
   "id": "applied-observer",
   "metadata": {},
   "outputs": [
    {
     "data": {
      "text/plain": [
       "list"
      ]
     },
     "execution_count": 31,
     "metadata": {},
     "output_type": "execute_result"
    }
   ],
   "source": [
    "type(softmax_outputs)"
   ]
  },
  {
   "cell_type": "code",
   "execution_count": 32,
   "id": "humanitarian-humidity",
   "metadata": {},
   "outputs": [
    {
     "data": {
      "text/plain": [
       "numpy.ndarray"
      ]
     },
     "execution_count": 32,
     "metadata": {},
     "output_type": "execute_result"
    }
   ],
   "source": [
    "type(softmax_outputs_np)"
   ]
  },
  {
   "cell_type": "code",
   "execution_count": 34,
   "id": "optical-richards",
   "metadata": {},
   "outputs": [
    {
     "name": "stdout",
     "output_type": "stream",
     "text": [
      "[0.7 0.5 0.9]\n"
     ]
    }
   ],
   "source": [
    "print(softmax_outputs_np[range(len(softmax_outputs)), class_targets])"
   ]
  },
  {
   "cell_type": "code",
   "execution_count": 37,
   "id": "strong-creature",
   "metadata": {},
   "outputs": [
    {
     "name": "stdout",
     "output_type": "stream",
     "text": [
      "[0.35667494 0.69314718 0.10536052]\n"
     ]
    }
   ],
   "source": [
    "print(-np.log(softmax_outputs_np[range(len(softmax_outputs)), class_targets]))"
   ]
  },
  {
   "cell_type": "code",
   "execution_count": 39,
   "id": "accomplished-boards",
   "metadata": {},
   "outputs": [
    {
     "name": "stdout",
     "output_type": "stream",
     "text": [
      "[0.35667494 0.69314718 0.10536052]\n",
      "0.38506088005216804\n"
     ]
    }
   ],
   "source": [
    "neg_log = -np.log(softmax_outputs_np[range(len(softmax_outputs)), class_targets])\n",
    "print(neg_log)\n",
    "average_loss = np.mean(neg_log)\n",
    "print(average_loss)"
   ]
  },
  {
   "cell_type": "markdown",
   "id": "historic-playlist",
   "metadata": {},
   "source": [
    "## Loss function example\n",
    "\n",
    "Question: why do we multiply the 'target' vector with softmax_outputs, instead of e.g. computing max of output vectors and evaluating them?\n",
    "in our case the average loss does not change if values of softmax_outputs are adjusted."
   ]
  },
  {
   "cell_type": "code",
   "execution_count": 85,
   "id": "alike-glossary",
   "metadata": {},
   "outputs": [],
   "source": [
    "softmax_outputs = np.array([[0.7, 0.1, 0.2], [0.1, 0.5, 0.4], [0.02, 0.9, 0.08]])\n",
    "class_targets = np.array([[1, 0, 0], [0, 1, 0], [0, 1, 0]])"
   ]
  },
  {
   "cell_type": "code",
   "execution_count": 86,
   "id": "retired-lightweight",
   "metadata": {},
   "outputs": [],
   "source": [
    "# Probabilities for target values -\n",
    "# only if categorical labels\n",
    "if len(class_targets.shape) == 1:\n",
    "    correct_confidences = softmax_outputs[range(len(softmax_outputs)), class_targets]\n",
    "    # Mask values - only for one-hot encoded labels\n",
    "elif len(class_targets.shape) == 2:\n",
    "    correct_confidences = np.sum(softmax_outputs*class_targets, axis=1)"
   ]
  },
  {
   "cell_type": "code",
   "execution_count": 87,
   "id": "clinical-cologne",
   "metadata": {},
   "outputs": [
    {
     "name": "stdout",
     "output_type": "stream",
     "text": [
      "0.38506088005216804\n"
     ]
    }
   ],
   "source": [
    "neg_log = -np.log(correct_confidences)\n",
    "average_loss = np.mean(neg_log)\n",
    "print(average_loss)"
   ]
  },
  {
   "cell_type": "markdown",
   "id": "honey-redhead",
   "metadata": {},
   "source": [
    "## Some checks"
   ]
  },
  {
   "cell_type": "code",
   "execution_count": 46,
   "id": "statewide-spread",
   "metadata": {},
   "outputs": [
    {
     "data": {
      "text/plain": [
       "(3, 3)"
      ]
     },
     "execution_count": 46,
     "metadata": {},
     "output_type": "execute_result"
    }
   ],
   "source": [
    "class_targets.shape"
   ]
  },
  {
   "cell_type": "code",
   "execution_count": 79,
   "id": "graduate-playback",
   "metadata": {},
   "outputs": [
    {
     "data": {
      "text/plain": [
       "array([0.7, 0.5, 0.9])"
      ]
     },
     "execution_count": 79,
     "metadata": {},
     "output_type": "execute_result"
    }
   ],
   "source": [
    "np.sum(softmax_outputs*class_targets, axis=1)"
   ]
  },
  {
   "cell_type": "code",
   "execution_count": 72,
   "id": "significant-truth",
   "metadata": {},
   "outputs": [],
   "source": [
    "# np.sum([[0, 2], [1, 5]], axis=1)"
   ]
  },
  {
   "cell_type": "code",
   "execution_count": 78,
   "id": "tamil-cologne",
   "metadata": {},
   "outputs": [],
   "source": [
    "# np.amax(softmax_outputs*class_targets, axis = 1)"
   ]
  },
  {
   "cell_type": "code",
   "execution_count": 96,
   "id": "nuclear-inspector",
   "metadata": {},
   "outputs": [
    {
     "data": {
      "text/plain": [
       "4.680659955190793e-05"
      ]
     },
     "execution_count": 96,
     "metadata": {},
     "output_type": "execute_result"
    }
   ],
   "source": [
    "2.71 ** -10\n",
    "#1 / 2.71 "
   ]
  },
  {
   "cell_type": "code",
   "execution_count": 104,
   "id": "brilliant-currency",
   "metadata": {},
   "outputs": [
    {
     "data": {
      "text/plain": [
       "0.0"
      ]
     },
     "execution_count": 104,
     "metadata": {},
     "output_type": "execute_result"
    }
   ],
   "source": [
    "np.e **(-np.inf)"
   ]
  },
  {
   "cell_type": "markdown",
   "id": "decent-machinery",
   "metadata": {},
   "source": [
    "## Value clipping"
   ]
  },
  {
   "cell_type": "code",
   "execution_count": 118,
   "id": "numerous-lighter",
   "metadata": {},
   "outputs": [],
   "source": [
    "y_pred = np.array([0,0.1,0.2,0.7])"
   ]
  },
  {
   "cell_type": "code",
   "execution_count": 123,
   "id": "growing-spokesman",
   "metadata": {},
   "outputs": [],
   "source": [
    "y_pred_clipped = np.clip(y_pred, 0.001, 0.99)"
   ]
  },
  {
   "cell_type": "code",
   "execution_count": 124,
   "id": "abandoned-livestock",
   "metadata": {},
   "outputs": [
    {
     "data": {
      "text/plain": [
       "array([0.001, 0.1  , 0.2  , 0.7  ])"
      ]
     },
     "execution_count": 124,
     "metadata": {},
     "output_type": "execute_result"
    }
   ],
   "source": [
    "y_pred_clipped"
   ]
  },
  {
   "cell_type": "code",
   "execution_count": null,
   "id": "professional-reviewer",
   "metadata": {},
   "outputs": [],
   "source": []
  }
 ],
 "metadata": {
  "kernelspec": {
   "display_name": "Python 3",
   "language": "python",
   "name": "python3"
  },
  "language_info": {
   "codemirror_mode": {
    "name": "ipython",
    "version": 3
   },
   "file_extension": ".py",
   "mimetype": "text/x-python",
   "name": "python",
   "nbconvert_exporter": "python",
   "pygments_lexer": "ipython3",
   "version": "3.9.2"
  }
 },
 "nbformat": 4,
 "nbformat_minor": 5
}
