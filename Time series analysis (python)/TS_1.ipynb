{
 "cells": [
  {
   "cell_type": "code",
   "execution_count": 1,
   "metadata": {},
   "outputs": [],
   "source": [
    "# Import pandas and plotting modules\n",
    "import pandas as pd\n",
    "import matplotlib.pyplot as plt\n",
    "from time import strptime\n",
    "import datetime, time\n",
    "from datetime import date\n",
    "import statsmodels.api as sm\n",
    "from statsmodels.tsa.stattools import acf\n",
    "from statsmodels.graphics.tsaplots import plot_acf"
   ]
  },
  {
   "cell_type": "markdown",
   "metadata": {},
   "source": [
    "# Getting and preparing data from GoogleTrends"
   ]
  },
  {
   "cell_type": "code",
   "execution_count": 2,
   "metadata": {},
   "outputs": [
    {
     "data": {
      "text/html": [
       "<div>\n",
       "<style scoped>\n",
       "    .dataframe tbody tr th:only-of-type {\n",
       "        vertical-align: middle;\n",
       "    }\n",
       "\n",
       "    .dataframe tbody tr th {\n",
       "        vertical-align: top;\n",
       "    }\n",
       "\n",
       "    .dataframe thead th {\n",
       "        text-align: right;\n",
       "    }\n",
       "</style>\n",
       "<table border=\"1\" class=\"dataframe\">\n",
       "  <thead>\n",
       "    <tr style=\"text-align: right;\">\n",
       "      <th></th>\n",
       "      <th>date</th>\n",
       "      <th>summer</th>\n",
       "      <th>bikini</th>\n",
       "      <th>diet</th>\n",
       "    </tr>\n",
       "  </thead>\n",
       "  <tbody>\n",
       "    <tr>\n",
       "      <th>0</th>\n",
       "      <td>03/05/2015</td>\n",
       "      <td>29</td>\n",
       "      <td>28</td>\n",
       "      <td>30</td>\n",
       "    </tr>\n",
       "    <tr>\n",
       "      <th>1</th>\n",
       "      <td>10/05/2015</td>\n",
       "      <td>34</td>\n",
       "      <td>28</td>\n",
       "      <td>29</td>\n",
       "    </tr>\n",
       "    <tr>\n",
       "      <th>2</th>\n",
       "      <td>17/05/2015</td>\n",
       "      <td>31</td>\n",
       "      <td>26</td>\n",
       "      <td>27</td>\n",
       "    </tr>\n",
       "    <tr>\n",
       "      <th>3</th>\n",
       "      <td>24/05/2015</td>\n",
       "      <td>34</td>\n",
       "      <td>26</td>\n",
       "      <td>30</td>\n",
       "    </tr>\n",
       "    <tr>\n",
       "      <th>4</th>\n",
       "      <td>31/05/2015</td>\n",
       "      <td>52</td>\n",
       "      <td>35</td>\n",
       "      <td>27</td>\n",
       "    </tr>\n",
       "    <tr>\n",
       "      <th>5</th>\n",
       "      <td>07/06/2015</td>\n",
       "      <td>61</td>\n",
       "      <td>33</td>\n",
       "      <td>29</td>\n",
       "    </tr>\n",
       "    <tr>\n",
       "      <th>6</th>\n",
       "      <td>14/06/2015</td>\n",
       "      <td>53</td>\n",
       "      <td>26</td>\n",
       "      <td>26</td>\n",
       "    </tr>\n",
       "    <tr>\n",
       "      <th>7</th>\n",
       "      <td>21/06/2015</td>\n",
       "      <td>49</td>\n",
       "      <td>23</td>\n",
       "      <td>23</td>\n",
       "    </tr>\n",
       "    <tr>\n",
       "      <th>8</th>\n",
       "      <td>28/06/2015</td>\n",
       "      <td>86</td>\n",
       "      <td>43</td>\n",
       "      <td>24</td>\n",
       "    </tr>\n",
       "    <tr>\n",
       "      <th>9</th>\n",
       "      <td>05/07/2015</td>\n",
       "      <td>57</td>\n",
       "      <td>38</td>\n",
       "      <td>23</td>\n",
       "    </tr>\n",
       "  </tbody>\n",
       "</table>\n",
       "</div>"
      ],
      "text/plain": [
       "         date  summer  bikini  diet\n",
       "0  03/05/2015      29      28    30\n",
       "1  10/05/2015      34      28    29\n",
       "2  17/05/2015      31      26    27\n",
       "3  24/05/2015      34      26    30\n",
       "4  31/05/2015      52      35    27\n",
       "5  07/06/2015      61      33    29\n",
       "6  14/06/2015      53      26    26\n",
       "7  21/06/2015      49      23    23\n",
       "8  28/06/2015      86      43    24\n",
       "9  05/07/2015      57      38    23"
      ]
     },
     "execution_count": 2,
     "metadata": {},
     "output_type": "execute_result"
    }
   ],
   "source": [
    "data = pd.read_csv('GoogleTrends_summer.csv')\n",
    "data.head(10)"
   ]
  },
  {
   "cell_type": "code",
   "execution_count": 3,
   "metadata": {},
   "outputs": [],
   "source": [
    "#data.index = data[[\"date\"]] \n",
    "#data"
   ]
  },
  {
   "cell_type": "code",
   "execution_count": 4,
   "metadata": {},
   "outputs": [
    {
     "data": {
      "text/html": [
       "<div>\n",
       "<style scoped>\n",
       "    .dataframe tbody tr th:only-of-type {\n",
       "        vertical-align: middle;\n",
       "    }\n",
       "\n",
       "    .dataframe tbody tr th {\n",
       "        vertical-align: top;\n",
       "    }\n",
       "\n",
       "    .dataframe thead th {\n",
       "        text-align: right;\n",
       "    }\n",
       "</style>\n",
       "<table border=\"1\" class=\"dataframe\">\n",
       "  <thead>\n",
       "    <tr style=\"text-align: right;\">\n",
       "      <th></th>\n",
       "      <th>date</th>\n",
       "      <th>summer</th>\n",
       "      <th>bikini</th>\n",
       "      <th>diet</th>\n",
       "    </tr>\n",
       "  </thead>\n",
       "  <tbody>\n",
       "    <tr>\n",
       "      <th>0</th>\n",
       "      <td>2015-05-03</td>\n",
       "      <td>29</td>\n",
       "      <td>28</td>\n",
       "      <td>30</td>\n",
       "    </tr>\n",
       "    <tr>\n",
       "      <th>1</th>\n",
       "      <td>2015-05-10</td>\n",
       "      <td>34</td>\n",
       "      <td>28</td>\n",
       "      <td>29</td>\n",
       "    </tr>\n",
       "    <tr>\n",
       "      <th>2</th>\n",
       "      <td>2015-05-17</td>\n",
       "      <td>31</td>\n",
       "      <td>26</td>\n",
       "      <td>27</td>\n",
       "    </tr>\n",
       "    <tr>\n",
       "      <th>3</th>\n",
       "      <td>2015-05-24</td>\n",
       "      <td>34</td>\n",
       "      <td>26</td>\n",
       "      <td>30</td>\n",
       "    </tr>\n",
       "    <tr>\n",
       "      <th>4</th>\n",
       "      <td>2015-05-31</td>\n",
       "      <td>52</td>\n",
       "      <td>35</td>\n",
       "      <td>27</td>\n",
       "    </tr>\n",
       "    <tr>\n",
       "      <th>5</th>\n",
       "      <td>2015-06-07</td>\n",
       "      <td>61</td>\n",
       "      <td>33</td>\n",
       "      <td>29</td>\n",
       "    </tr>\n",
       "    <tr>\n",
       "      <th>6</th>\n",
       "      <td>2015-06-14</td>\n",
       "      <td>53</td>\n",
       "      <td>26</td>\n",
       "      <td>26</td>\n",
       "    </tr>\n",
       "    <tr>\n",
       "      <th>7</th>\n",
       "      <td>2015-06-21</td>\n",
       "      <td>49</td>\n",
       "      <td>23</td>\n",
       "      <td>23</td>\n",
       "    </tr>\n",
       "    <tr>\n",
       "      <th>8</th>\n",
       "      <td>2015-06-28</td>\n",
       "      <td>86</td>\n",
       "      <td>43</td>\n",
       "      <td>24</td>\n",
       "    </tr>\n",
       "    <tr>\n",
       "      <th>9</th>\n",
       "      <td>2015-07-05</td>\n",
       "      <td>57</td>\n",
       "      <td>38</td>\n",
       "      <td>23</td>\n",
       "    </tr>\n",
       "  </tbody>\n",
       "</table>\n",
       "</div>"
      ],
      "text/plain": [
       "        date  summer  bikini  diet\n",
       "0 2015-05-03      29      28    30\n",
       "1 2015-05-10      34      28    29\n",
       "2 2015-05-17      31      26    27\n",
       "3 2015-05-24      34      26    30\n",
       "4 2015-05-31      52      35    27\n",
       "5 2015-06-07      61      33    29\n",
       "6 2015-06-14      53      26    26\n",
       "7 2015-06-21      49      23    23\n",
       "8 2015-06-28      86      43    24\n",
       "9 2015-07-05      57      38    23"
      ]
     },
     "execution_count": 4,
     "metadata": {},
     "output_type": "execute_result"
    }
   ],
   "source": [
    "# Convert the date index to datetime\n",
    "data[\"date\"] = pd.to_datetime(data[\"date\"], format=\"%d/%m/%Y\")\n",
    "#data[\"date\"] = data['date'].dt.date\n",
    "data.head(10)"
   ]
  },
  {
   "cell_type": "code",
   "execution_count": 5,
   "metadata": {},
   "outputs": [
    {
     "data": {
      "text/plain": [
       "<matplotlib.axes._subplots.AxesSubplot at 0x2443d6e4608>"
      ]
     },
     "execution_count": 5,
     "metadata": {},
     "output_type": "execute_result"
    },
    {
     "data": {
      "image/png": "[encoded data removed]",
      "text/plain": [
       "<Figure size 432x288 with 1 Axes>"
      ]
     },
     "metadata": {
      "needs_background": "light"
     },
     "output_type": "display_data"
    }
   ],
   "source": [
    "data.plot(x='date', y = ['summer', 'bikini', 'diet'], grid=True)"
   ]
  },
  {
   "cell_type": "code",
   "execution_count": 6,
   "metadata": {},
   "outputs": [],
   "source": [
    "data_cut = data[data['date'] < '2017-01-01']"
   ]
  },
  {
   "cell_type": "code",
   "execution_count": 7,
   "metadata": {},
   "outputs": [
    {
     "data": {
      "text/plain": [
       "<matplotlib.axes._subplots.AxesSubplot at 0x2443df2e588>"
      ]
     },
     "execution_count": 7,
     "metadata": {},
     "output_type": "execute_result"
    },
    {
     "data": {
      "image/png": "[encoded data removed]",
      "text/plain": [
       "<Figure size 432x288 with 1 Axes>"
      ]
     },
     "metadata": {
      "needs_background": "light"
     },
     "output_type": "display_data"
    }
   ],
   "source": [
    "data_cut.plot(x='date', y = ['summer', 'bikini', 'diet'], grid=True)"
   ]
  },
  {
   "cell_type": "markdown",
   "metadata": {},
   "source": [
    "# Resampling"
   ]
  },
  {
   "cell_type": "code",
   "execution_count": 8,
   "metadata": {},
   "outputs": [
    {
     "data": {
      "text/plain": [
       "<matplotlib.axes._subplots.AxesSubplot at 0x2443e004b48>"
      ]
     },
     "execution_count": 8,
     "metadata": {},
     "output_type": "execute_result"
    },
    {
     "data": {
      "image/png": "[encoded data removed]",
      "text/plain": [
       "<Figure size 432x288 with 1 Axes>"
      ]
     },
     "metadata": {
      "needs_background": "light"
     },
     "output_type": "display_data"
    }
   ],
   "source": [
    "# Convert the weekly data to monthly data\n",
    "data_R = data.resample('M', on=\"date\").max()\n",
    "data_R.head(10)\n",
    "data_R.plot(x='date', y = ['summer', 'bikini', 'diet'], grid=True)"
   ]
  },
  {
   "cell_type": "markdown",
   "metadata": {},
   "source": [
    "# First look at correlations, R squared and scatter plots"
   ]
  },
  {
   "cell_type": "code",
   "execution_count": 9,
   "metadata": {},
   "outputs": [
    {
     "data": {
      "text/html": [
       "<div>\n",
       "<style scoped>\n",
       "    .dataframe tbody tr th:only-of-type {\n",
       "        vertical-align: middle;\n",
       "    }\n",
       "\n",
       "    .dataframe tbody tr th {\n",
       "        vertical-align: top;\n",
       "    }\n",
       "\n",
       "    .dataframe thead th {\n",
       "        text-align: right;\n",
       "    }\n",
       "</style>\n",
       "<table border=\"1\" class=\"dataframe\">\n",
       "  <thead>\n",
       "    <tr style=\"text-align: right;\">\n",
       "      <th></th>\n",
       "      <th>summer</th>\n",
       "      <th>bikini</th>\n",
       "      <th>diet</th>\n",
       "    </tr>\n",
       "    <tr>\n",
       "      <th>date</th>\n",
       "      <th></th>\n",
       "      <th></th>\n",
       "      <th></th>\n",
       "    </tr>\n",
       "  </thead>\n",
       "  <tbody>\n",
       "    <tr>\n",
       "      <th>2015-05-03</th>\n",
       "      <td>NaN</td>\n",
       "      <td>NaN</td>\n",
       "      <td>NaN</td>\n",
       "    </tr>\n",
       "    <tr>\n",
       "      <th>2015-05-10</th>\n",
       "      <td>0.172414</td>\n",
       "      <td>0.000000</td>\n",
       "      <td>-0.033333</td>\n",
       "    </tr>\n",
       "    <tr>\n",
       "      <th>2015-05-17</th>\n",
       "      <td>-0.088235</td>\n",
       "      <td>-0.071429</td>\n",
       "      <td>-0.068966</td>\n",
       "    </tr>\n",
       "    <tr>\n",
       "      <th>2015-05-24</th>\n",
       "      <td>0.096774</td>\n",
       "      <td>0.000000</td>\n",
       "      <td>0.111111</td>\n",
       "    </tr>\n",
       "    <tr>\n",
       "      <th>2015-05-31</th>\n",
       "      <td>0.529412</td>\n",
       "      <td>0.346154</td>\n",
       "      <td>-0.100000</td>\n",
       "    </tr>\n",
       "  </tbody>\n",
       "</table>\n",
       "</div>"
      ],
      "text/plain": [
       "              summer    bikini      diet\n",
       "date                                    \n",
       "2015-05-03       NaN       NaN       NaN\n",
       "2015-05-10  0.172414  0.000000 -0.033333\n",
       "2015-05-17 -0.088235 -0.071429 -0.068966\n",
       "2015-05-24  0.096774  0.000000  0.111111\n",
       "2015-05-31  0.529412  0.346154 -0.100000"
      ]
     },
     "execution_count": 9,
     "metadata": {},
     "output_type": "execute_result"
    }
   ],
   "source": [
    "pct = data[['summer', 'bikini', 'diet']].pct_change()\n",
    "pct.index = data['date']\n",
    "pct.head()"
   ]
  },
  {
   "cell_type": "code",
   "execution_count": 10,
   "metadata": {},
   "outputs": [
    {
     "data": {
      "image/png": "[encoded data removed]",
      "text/plain": [
       "<Figure size 432x288 with 3 Axes>"
      ]
     },
     "metadata": {
      "needs_background": "light"
     },
     "output_type": "display_data"
    }
   ],
   "source": [
    "fig, (ax1, ax2,ax3) = plt.subplots(1, 3)\n",
    "fig.suptitle('Horizontally stacked subplots')\n",
    "ax1.scatter(pct[\"summer\"],pct[\"bikini\"])\n",
    "ax2.scatter(pct[\"summer\"],pct[\"diet\"])\n",
    "ax3.scatter(pct[\"bikini\"],pct[\"diet\"])\n",
    "\n",
    "plt.show()"
   ]
  },
  {
   "cell_type": "code",
   "execution_count": 11,
   "metadata": {},
   "outputs": [
    {
     "name": "stdout",
     "output_type": "stream",
     "text": [
      "Correlation of summer and bikini:  0.7550582851415347\n",
      "Correlation of summer and diet:  0.25698971601321136\n",
      "Correlation of bikini and diet:  0.23492918499996213\n"
     ]
    }
   ],
   "source": [
    "corr1 = pct[\"summer\"].corr(pct[\"bikini\"])\n",
    "print(\"Correlation of summer and bikini: \", corr1)\n",
    "\n",
    "corr2 = pct[\"summer\"].corr(pct[\"diet\"])\n",
    "print(\"Correlation of summer and diet: \", corr2)\n",
    "\n",
    "corr3 = pct[\"bikini\"].corr(pct[\"diet\"])\n",
    "print(\"Correlation of bikini and diet: \", corr3)\n"
   ]
  },
  {
   "cell_type": "code",
   "execution_count": 12,
   "metadata": {},
   "outputs": [
    {
     "data": {
      "text/html": [
       "<div>\n",
       "<style scoped>\n",
       "    .dataframe tbody tr th:only-of-type {\n",
       "        vertical-align: middle;\n",
       "    }\n",
       "\n",
       "    .dataframe tbody tr th {\n",
       "        vertical-align: top;\n",
       "    }\n",
       "\n",
       "    .dataframe thead th {\n",
       "        text-align: right;\n",
       "    }\n",
       "</style>\n",
       "<table border=\"1\" class=\"dataframe\">\n",
       "  <thead>\n",
       "    <tr style=\"text-align: right;\">\n",
       "      <th></th>\n",
       "      <th>const</th>\n",
       "      <th>date</th>\n",
       "      <th>summer</th>\n",
       "      <th>bikini</th>\n",
       "      <th>diet</th>\n",
       "    </tr>\n",
       "  </thead>\n",
       "  <tbody>\n",
       "    <tr>\n",
       "      <th>0</th>\n",
       "      <td>1.0</td>\n",
       "      <td>2015-05-03</td>\n",
       "      <td>29</td>\n",
       "      <td>28</td>\n",
       "      <td>30</td>\n",
       "    </tr>\n",
       "    <tr>\n",
       "      <th>1</th>\n",
       "      <td>1.0</td>\n",
       "      <td>2015-05-10</td>\n",
       "      <td>34</td>\n",
       "      <td>28</td>\n",
       "      <td>29</td>\n",
       "    </tr>\n",
       "    <tr>\n",
       "      <th>2</th>\n",
       "      <td>1.0</td>\n",
       "      <td>2015-05-17</td>\n",
       "      <td>31</td>\n",
       "      <td>26</td>\n",
       "      <td>27</td>\n",
       "    </tr>\n",
       "    <tr>\n",
       "      <th>3</th>\n",
       "      <td>1.0</td>\n",
       "      <td>2015-05-24</td>\n",
       "      <td>34</td>\n",
       "      <td>26</td>\n",
       "      <td>30</td>\n",
       "    </tr>\n",
       "    <tr>\n",
       "      <th>4</th>\n",
       "      <td>1.0</td>\n",
       "      <td>2015-05-31</td>\n",
       "      <td>52</td>\n",
       "      <td>35</td>\n",
       "      <td>27</td>\n",
       "    </tr>\n",
       "  </tbody>\n",
       "</table>\n",
       "</div>"
      ],
      "text/plain": [
       "   const       date  summer  bikini  diet\n",
       "0    1.0 2015-05-03      29      28    30\n",
       "1    1.0 2015-05-10      34      28    29\n",
       "2    1.0 2015-05-17      31      26    27\n",
       "3    1.0 2015-05-24      34      26    30\n",
       "4    1.0 2015-05-31      52      35    27"
      ]
     },
     "execution_count": 12,
     "metadata": {},
     "output_type": "execute_result"
    }
   ],
   "source": [
    "data_const = sm.add_constant(data)\n",
    "data_const.head()"
   ]
  },
  {
   "cell_type": "code",
   "execution_count": 13,
   "metadata": {},
   "outputs": [
    {
     "name": "stdout",
     "output_type": "stream",
     "text": [
      "                            OLS Regression Results                            \n",
      "==============================================================================\n",
      "Dep. Variable:                 bikini   R-squared:                       0.853\n",
      "Model:                            OLS   Adj. R-squared:                  0.853\n",
      "Method:                 Least Squares   F-statistic:                     1505.\n",
      "Date:                Fri, 05 Jun 2020   Prob (F-statistic):          6.96e-110\n",
      "Time:                        23:41:06   Log-Likelihood:                -672.25\n",
      "No. Observations:                 261   AIC:                             1348.\n",
      "Df Residuals:                     259   BIC:                             1356.\n",
      "Df Model:                           1                                         \n",
      "Covariance Type:            nonrobust                                         \n",
      "==============================================================================\n",
      "                 coef    std err          t      P>|t|      [0.025      0.975]\n",
      "------------------------------------------------------------------------------\n",
      "const          5.0503      0.385     13.111      0.000       4.292       5.809\n",
      "summer         0.4798      0.012     38.789      0.000       0.455       0.504\n",
      "==============================================================================\n",
      "Omnibus:                        7.168   Durbin-Watson:                   0.468\n",
      "Prob(Omnibus):                  0.028   Jarque-Bera (JB):                6.956\n",
      "Skew:                           0.385   Prob(JB):                       0.0309\n",
      "Kurtosis:                       3.218   Cond. No.                         60.8\n",
      "==============================================================================\n",
      "\n",
      "Warnings:\n",
      "[1] Standard Errors assume that the covariance matrix of the errors is correctly specified. \n",
      "\n",
      " ------------------------------------------------------------------------------------------ \n",
      "\n",
      "                             OLS Regression Results                            \n",
      "==============================================================================\n",
      "Dep. Variable:                   diet   R-squared:                       0.043\n",
      "Model:                            OLS   Adj. R-squared:                  0.039\n",
      "Method:                 Least Squares   F-statistic:                     11.65\n",
      "Date:                Fri, 05 Jun 2020   Prob (F-statistic):           0.000744\n",
      "Time:                        23:41:06   Log-Likelihood:                -790.97\n",
      "No. Observations:                 261   AIC:                             1586.\n",
      "Df Residuals:                     259   BIC:                             1593.\n",
      "Df Model:                           1                                         \n",
      "Covariance Type:            nonrobust                                         \n",
      "==============================================================================\n",
      "                 coef    std err          t      P>|t|      [0.025      0.975]\n",
      "------------------------------------------------------------------------------\n",
      "const         18.8876      0.607     31.112      0.000      17.692      20.083\n",
      "summer         0.0665      0.019      3.414      0.001       0.028       0.105\n",
      "==============================================================================\n",
      "Omnibus:                       13.080   Durbin-Watson:                   0.307\n",
      "Prob(Omnibus):                  0.001   Jarque-Bera (JB):               13.828\n",
      "Skew:                           0.560   Prob(JB):                     0.000994\n",
      "Kurtosis:                       3.123   Cond. No.                         60.8\n",
      "==============================================================================\n",
      "\n",
      "Warnings:\n",
      "[1] Standard Errors assume that the covariance matrix of the errors is correctly specified. \n",
      "\n",
      " ------------------------------------------------------------------------------------------ \n",
      "\n",
      "                             OLS Regression Results                            \n",
      "==============================================================================\n",
      "Dep. Variable:                   diet   R-squared:                       0.158\n",
      "Model:                            OLS   Adj. R-squared:                  0.154\n",
      "Method:                 Least Squares   F-statistic:                     48.45\n",
      "Date:                Fri, 05 Jun 2020   Prob (F-statistic):           2.77e-11\n",
      "Time:                        23:41:06   Log-Likelihood:                -774.33\n",
      "No. Observations:                 261   AIC:                             1553.\n",
      "Df Residuals:                     259   BIC:                             1560.\n",
      "Df Model:                           1                                         \n",
      "Covariance Type:            nonrobust                                         \n",
      "==============================================================================\n",
      "                 coef    std err          t      P>|t|      [0.025      0.975]\n",
      "------------------------------------------------------------------------------\n",
      "const         16.2851      0.694     23.467      0.000      14.919      17.652\n",
      "bikini         0.2451      0.035      6.961      0.000       0.176       0.314\n",
      "==============================================================================\n",
      "Omnibus:                       24.174   Durbin-Watson:                   0.367\n",
      "Prob(Omnibus):                  0.000   Jarque-Bera (JB):               28.362\n",
      "Skew:                           0.731   Prob(JB):                     6.94e-07\n",
      "Kurtosis:                       3.685   Cond. No.                         46.9\n",
      "==============================================================================\n",
      "\n",
      "Warnings:\n",
      "[1] Standard Errors assume that the covariance matrix of the errors is correctly specified.\n"
     ]
    }
   ],
   "source": [
    "result1 = sm.OLS(data_const[['bikini']], data_const[['const', 'summer']]).fit()\n",
    "result2 = sm.OLS(data_const[['diet']], data_const[['const', 'summer']]).fit()\n",
    "result3 = sm.OLS(data_const[['diet']], data_const[['const', 'bikini']]).fit()\n",
    "print(result1.summary(), \"\\n\"*2, \"---\"*30, \"\\n\"*2,  result2.summary(), \"\\n\"*2, \"---\"*30, \"\\n\"*2,  result3.summary())"
   ]
  },
  {
   "cell_type": "markdown",
   "metadata": {},
   "source": [
    "# Autocorrelation\n"
   ]
  },
  {
   "cell_type": "code",
   "execution_count": 14,
   "metadata": {},
   "outputs": [
    {
     "name": "stdout",
     "output_type": "stream",
     "text": [
      "The autocorrelation of (weekly - pct) bikini series is -0.03\n",
      "The autocorrelation of (weekly - pct) summer series is 0.02\n",
      "The autocorrelation of (weekly - pct) diet series is 0.24\n"
     ]
    }
   ],
   "source": [
    "# Compute and print the autocorrelation (weekly data - % change)\n",
    "autocorrelation_1 = pct [\"bikini\"].autocorr()\n",
    "autocorrelation_2 = pct [\"summer\"].autocorr()\n",
    "autocorrelation_3 = pct [\"diet\"].autocorr()\n",
    "print(\"The autocorrelation of (weekly - pct) bikini series is %4.2f\" %(autocorrelation_1))\n",
    "print(\"The autocorrelation of (weekly - pct) summer series is %4.2f\" %(autocorrelation_2))\n",
    "print(\"The autocorrelation of (weekly - pct) diet series is %4.2f\" %(autocorrelation_3))"
   ]
  },
  {
   "cell_type": "code",
   "execution_count": 15,
   "metadata": {},
   "outputs": [
    {
     "name": "stdout",
     "output_type": "stream",
     "text": [
      "The autocorrelation of (weekly - diff) bikini series is -0.09\n",
      "The autocorrelation of (weekly - diff) summer series is -0.12\n",
      "The autocorrelation of (weekly - diff) diet series is 0.14\n"
     ]
    }
   ],
   "source": [
    "# Compute and print the autocorrelation (weekly data - diff)\n",
    "\n",
    "w_diff = data[['summer', 'bikini', 'diet']].diff()\n",
    "w_diff.index = data['date']\n",
    "\n",
    "autocorrelation_1 = w_diff [\"bikini\"].autocorr()\n",
    "autocorrelation_2 = w_diff [\"summer\"].autocorr()\n",
    "autocorrelation_3 = w_diff [\"diet\"].autocorr()\n",
    "print(\"The autocorrelation of (weekly - diff) bikini series is %4.2f\" %(autocorrelation_1))\n",
    "print(\"The autocorrelation of (weekly - diff) summer series is %4.2f\" %(autocorrelation_2))\n",
    "print(\"The autocorrelation of (weekly - diff) diet series is %4.2f\" %(autocorrelation_3))"
   ]
  },
  {
   "cell_type": "code",
   "execution_count": 16,
   "metadata": {},
   "outputs": [
    {
     "name": "stdout",
     "output_type": "stream",
     "text": [
      "The autocorrelation of (monthly resampled data  - m_pct) bikini series is 0.23\n",
      "The autocorrelation of (monthly resampled data  - m_pct) summer series is 0.26\n",
      "The autocorrelation of (monthly resampled data  - m_pct) diet series is -0.12\n"
     ]
    }
   ],
   "source": [
    "# Compute and print the autocorrelation (monthly resampled data - % change)\n",
    "\n",
    "m_pct = data_R[['summer', 'bikini', 'diet']].pct_change()\n",
    "m_pct.index = data_R['date']\n",
    "\n",
    "autocorrelation_1 = m_pct [\"bikini\"].autocorr()\n",
    "autocorrelation_2 = m_pct [\"summer\"].autocorr()\n",
    "autocorrelation_3 = m_pct [\"diet\"].autocorr()\n",
    "print(\"The autocorrelation of (monthly resampled data  - m_pct) bikini series is %4.2f\" %(autocorrelation_1))\n",
    "print(\"The autocorrelation of (monthly resampled data  - m_pct) summer series is %4.2f\" %(autocorrelation_2))\n",
    "print(\"The autocorrelation of (monthly resampled data  - m_pct) diet series is %4.2f\" %(autocorrelation_3))"
   ]
  },
  {
   "cell_type": "code",
   "execution_count": 17,
   "metadata": {},
   "outputs": [
    {
     "name": "stdout",
     "output_type": "stream",
     "text": [
      "The autocorrelation of (monthly resampled data  - m_diff) bikini series is 0.25\n",
      "The autocorrelation of (monthly resampled data  - m_diff) summer series is 0.09\n",
      "The autocorrelation of (monthly resampled data  - m_diff) diet series is -0.17\n"
     ]
    }
   ],
   "source": [
    "# Compute and print the autocorrelation (monthly resampled data - diff)\n",
    "\n",
    "m_diff = data_R[['summer', 'bikini', 'diet']].diff()\n",
    "m_diff.index = data_R['date']\n",
    "m_diff\n",
    "\n",
    "autocorrelation_1 = m_diff [\"bikini\"].autocorr()\n",
    "autocorrelation_2 = m_diff [\"summer\"].autocorr()\n",
    "autocorrelation_3 = m_diff [\"diet\"].autocorr()\n",
    "print(\"The autocorrelation of (monthly resampled data  - m_diff) bikini series is %4.2f\" %(autocorrelation_1))\n",
    "print(\"The autocorrelation of (monthly resampled data  - m_diff) summer series is %4.2f\" %(autocorrelation_2))\n",
    "print(\"The autocorrelation of (monthly resampled data  - m_diff) diet series is %4.2f\" %(autocorrelation_3))"
   ]
  },
  {
   "cell_type": "markdown",
   "metadata": {},
   "source": [
    "# Autocorrelation function (ACF)"
   ]
  },
  {
   "cell_type": "code",
   "execution_count": 19,
   "metadata": {},
   "outputs": [
    {
     "name": "stdout",
     "output_type": "stream",
     "text": [
      "[ 1.          0.67632862  0.26973897 -0.10282678 -0.36381756 -0.47856563\n",
      " -0.50317137 -0.46639196 -0.36860853 -0.15327516  0.21518245  0.54650249\n",
      "  0.62031904  0.50137047  0.2288418  -0.09510773 -0.28973248 -0.37564871\n",
      " -0.40763303 -0.38870128 -0.30643993 -0.11781882  0.12431438  0.36110359\n",
      "  0.50351906  0.41080372  0.15853847 -0.06134087 -0.19632917 -0.26110633\n",
      " -0.28522017 -0.27931748 -0.22267641 -0.09860309  0.07903384  0.27311483\n",
      "  0.35597884  0.30543088  0.1399908  -0.03235141 -0.12094865]\n"
     ]
    },
    {
     "data": {
      "image/png": "[encoded data removed]",
      "text/plain": [
       "<Figure size 432x288 with 1 Axes>"
      ]
     },
     "metadata": {
      "needs_background": "light"
     },
     "output_type": "display_data"
    }
   ],
   "source": [
    "# Compute the acf array of HRB\n",
    "acf_array = acf(data_R[['summer']], fft=True )\n",
    "print(acf_array)\n",
    "\n",
    "#Plot the acf function\n",
    "plot_acf((data_R[['summer']]), alpha=1)\n",
    "plt.show()"
   ]
  },
  {
   "cell_type": "code",
   "execution_count": 20,
   "metadata": {},
   "outputs": [
    {
     "name": "stdout",
     "output_type": "stream",
     "text": [
      "[ 1.          0.73397935  0.3249137  -0.08472729 -0.38017227 -0.50729033\n",
      " -0.52764244 -0.46761186 -0.34837098 -0.10479173  0.26720255  0.56777296\n",
      "  0.66860308  0.55151231  0.28540947 -0.05775553 -0.31659269 -0.41997403\n",
      " -0.4519808  -0.41823487 -0.31832528 -0.08794589  0.19044942  0.42232469\n",
      "  0.52065621  0.42094059  0.17329783 -0.05225203 -0.19973699 -0.27066936\n",
      " -0.30464872 -0.28783411 -0.23005556 -0.08066706  0.10983332  0.29517211\n",
      "  0.35211231  0.27965118  0.12785942 -0.03856232 -0.13546701]\n"
     ]
    },
    {
     "data": {
      "image/png": "[encoded data removed]",
      "text/plain": [
       "<Figure size 432x288 with 1 Axes>"
      ]
     },
     "metadata": {
      "needs_background": "light"
     },
     "output_type": "display_data"
    }
   ],
   "source": [
    "# Compute the acf array of HRB\n",
    "acf_array = acf(data_R[['bikini']], fft=True )\n",
    "print(acf_array)\n",
    "\n",
    "#Plot the acf function\n",
    "plot_acf((data_R[['bikini']]), alpha=1)\n",
    "plt.show()"
   ]
  },
  {
   "cell_type": "code",
   "execution_count": 21,
   "metadata": {},
   "outputs": [
    {
     "name": "stdout",
     "output_type": "stream",
     "text": [
      "[ 1.          0.48419913  0.11994672 -0.03731269 -0.06679987 -0.13524809\n",
      " -0.26463536 -0.13378288 -0.00842491  0.02142857  0.10962371  0.31090576\n",
      "  0.50749251  0.2526307  -0.04468864 -0.14320679 -0.14841825 -0.1508325\n",
      " -0.20959041 -0.10031635 -0.00562771  0.08266733  0.10662671  0.26694972\n",
      "  0.26893107  0.06411921 -0.13559774 -0.21373626 -0.14272394 -0.19059274\n",
      " -0.14975025 -0.0483683  -0.02790543  0.0491009   0.08305028  0.20401265\n",
      "  0.18081918 -0.04137529 -0.14538795 -0.14120879 -0.07868798]\n"
     ]
    },
    {
     "data": {
      "image/png": "[encoded data removed]",
      "text/plain": [
       "<Figure size 432x288 with 1 Axes>"
      ]
     },
     "metadata": {
      "needs_background": "light"
     },
     "output_type": "display_data"
    }
   ],
   "source": [
    "# Compute the acf array of HRB\n",
    "acf_array = acf(data_R[['diet']], fft=True )\n",
    "print(acf_array)\n",
    "\n",
    "#Plot the acf function\n",
    "plot_acf((data_R[['diet']]), alpha=1)\n",
    "plt.show()"
   ]
  },
  {
   "cell_type": "code",
   "execution_count": null,
   "metadata": {},
   "outputs": [],
   "source": []
  }
 ],
 "metadata": {
  "kernelspec": {
   "display_name": "Python 3",
   "language": "python",
   "name": "python3"
  },
  "language_info": {
   "codemirror_mode": {
    "name": "ipython",
    "version": 3
   },
   "file_extension": ".py",
   "mimetype": "text/x-python",
   "name": "python",
   "nbconvert_exporter": "python",
   "pygments_lexer": "ipython3",
   "version": "3.7.7"
  }
 },
 "nbformat": 4,
 "nbformat_minor": 4
}
